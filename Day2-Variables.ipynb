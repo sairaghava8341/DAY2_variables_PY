{
 "cells": [
  {
   "cell_type": "code",
   "execution_count": 1,
   "id": "fd4080e6",
   "metadata": {},
   "outputs": [],
   "source": [
    "## DAY 2 - VARIABLES------->container that store values"
   ]
  },
  {
   "cell_type": "code",
   "execution_count": 2,
   "id": "f5ffe1a1",
   "metadata": {},
   "outputs": [
    {
     "ename": "SyntaxError",
     "evalue": "invalid syntax (<ipython-input-2-53c3eb71b811>, line 2)",
     "output_type": "error",
     "traceback": [
      "\u001b[1;36m  File \u001b[1;32m\"<ipython-input-2-53c3eb71b811>\"\u001b[1;36m, line \u001b[1;32m2\u001b[0m\n\u001b[1;33m    1.variable should be alphanueric\u001b[0m\n\u001b[1;37m      ^\u001b[0m\n\u001b[1;31mSyntaxError\u001b[0m\u001b[1;31m:\u001b[0m invalid syntax\n"
     ]
    }
   ],
   "source": [
    "## RULES\n",
    "1.variable should be alphanueric\n",
    "2.no white spaces allowed \n",
    "3.no special symbols are allowed\n",
    "4.only underscore is valid\n",
    "5.no keywords is allowed"
   ]
  },
  {
   "cell_type": "code",
   "execution_count": null,
   "id": "918973d0",
   "metadata": {},
   "outputs": [],
   "source": [
    "a=3             # a is variable,3 is value is value of type int\n",
    "b=\"SAI RAGHAVA\" # b is variable,\"SAI RAGHAVA\" is value of type str\n",
    "c=2.0           # c is variable,2.0 is value of type float"
   ]
  },
  {
   "cell_type": "code",
   "execution_count": 3,
   "id": "f15047db",
   "metadata": {},
   "outputs": [
    {
     "ename": "SyntaxError",
     "evalue": "invalid syntax (<ipython-input-3-f21e8943ae1e>, line 2)",
     "output_type": "error",
     "traceback": [
      "\u001b[1;36m  File \u001b[1;32m\"<ipython-input-3-f21e8943ae1e>\"\u001b[1;36m, line \u001b[1;32m2\u001b[0m\n\u001b[1;33m    syntax:\u001b[0m\n\u001b[1;37m           ^\u001b[0m\n\u001b[1;31mSyntaxError\u001b[0m\u001b[1;31m:\u001b[0m invalid syntax\n"
     ]
    }
   ],
   "source": [
    "## f formated strings\n",
    "syntax:\n",
    "    f\"{placeholder}\""
   ]
  },
  {
   "cell_type": "code",
   "execution_count": 9,
   "id": "f3e50ae6",
   "metadata": {},
   "outputs": [],
   "source": [
    "first_name=\"sai\"\n",
    "last_name=\"raghava\""
   ]
  },
  {
   "cell_type": "code",
   "execution_count": 10,
   "id": "6bf7d19d",
   "metadata": {},
   "outputs": [
    {
     "name": "stdout",
     "output_type": "stream",
     "text": [
      "sairaghava\n"
     ]
    }
   ],
   "source": [
    "complete_name=f\"{first_name}{last_name}\"\n",
    "print(complete_name)"
   ]
  },
  {
   "cell_type": "code",
   "execution_count": null,
   "id": "2e0a5eb1",
   "metadata": {},
   "outputs": [],
   "source": [
    "## BUILT IN METHODS\n",
    " 1.upper()-------->converts into all capital letters\n",
    " 2.lower()-------->converts into all small letters\n",
    " 3.title()-------->converts first letter capital remaining other things same"
   ]
  },
  {
   "cell_type": "code",
   "execution_count": 12,
   "id": "327edb95",
   "metadata": {},
   "outputs": [
    {
     "name": "stdout",
     "output_type": "stream",
     "text": [
      "SAIRAGHAVA\n"
     ]
    }
   ],
   "source": [
    "print(complete_name.upper())"
   ]
  },
  {
   "cell_type": "code",
   "execution_count": 13,
   "id": "c0b31fc3",
   "metadata": {},
   "outputs": [
    {
     "name": "stdout",
     "output_type": "stream",
     "text": [
      "sairaghava\n"
     ]
    }
   ],
   "source": [
    "print(complete_name.lower())"
   ]
  },
  {
   "cell_type": "code",
   "execution_count": 14,
   "id": "8b3d5e65",
   "metadata": {},
   "outputs": [
    {
     "name": "stdout",
     "output_type": "stream",
     "text": [
      "Sairaghava\n"
     ]
    }
   ],
   "source": [
    "print(complete_name.title())"
   ]
  },
  {
   "cell_type": "code",
   "execution_count": null,
   "id": "e79071b8",
   "metadata": {},
   "outputs": [],
   "source": []
  }
 ],
 "metadata": {
  "kernelspec": {
   "display_name": "Python 3",
   "language": "python",
   "name": "python3"
  },
  "language_info": {
   "codemirror_mode": {
    "name": "ipython",
    "version": 3
   },
   "file_extension": ".py",
   "mimetype": "text/x-python",
   "name": "python",
   "nbconvert_exporter": "python",
   "pygments_lexer": "ipython3",
   "version": "3.8.8"
  }
 },
 "nbformat": 4,
 "nbformat_minor": 5
}
